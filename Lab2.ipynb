{
 "nbformat": 4,
 "nbformat_minor": 0,
 "metadata": {
  "colab": {
   "provenance": [],
   "collapsed_sections": []
  },
  "kernelspec": {
   "name": "python3",
   "display_name": "Python 3"
  },
  "language_info": {
   "name": "python"
  }
 },
 "cells": [
  {
   "cell_type": "code",
   "execution_count": null,
   "metadata": {
    "id": "H0RolDDm7K_0",
    "pycharm": {
     "name": "#%%\n"
    }
   },
   "outputs": [],
   "source": [
    "!pip install transformers"
   ]
  },
  {
   "cell_type": "markdown",
   "source": [
    "Pass a biomedical context, such as this Wikipedia passage on COVID-19: “Symptoms ..”"
   ],
   "metadata": {
    "id": "YF4HBsot7wyY",
    "pycharm": {
     "name": "#%% md\n"
    }
   }
  },
  {
   "cell_type": "code",
   "source": [
    "from transformers import pipeline\n",
    "\n",
    "pipe = pipeline(\"question-answering\", model=\"ktrapeznikov/biobert_v1.1_pubmed_squad_v2\",  tokenizer=\"ktrapeznikov/biobert_v1.1_pubmed_squad_v2\")\n",
    "\n",
    "context = r\"\"\"\n",
    "Symptoms of COVID-19 are variable, but often include fever, cough, fatigue, breathing difficulties, and loss of smell and taste. \n",
    "Symptoms may begin one to fourteen days after exposure to the virus. \n",
    "At least a third of people who are infected do not develop noticeable symptoms.[9] \n",
    "Of those people who develop noticeable symptoms enough to be classed as patients, \n",
    "most (81%) develop mild to moderate symptoms (up to mild pneumonia), while 14% develop severe \n",
    "symptoms (dyspnea, hypoxia, or more than 50% lung involvement on imaging), and 5% suffer critical \n",
    "symptoms (respiratory failure, shock, or multiorgan dysfunction).[10] Older people are more likely to have severe symptoms. \n",
    "Some people continue to experience a range of effects—known as long COVID—for months after recovery, and damage to organs has been observed.[11] \n",
    "Multi-year studies are underway to further investigate the long-term effects of the disease.\n",
    "\"\"\"\n",
    "\n",
    "print(pipe(question=\"What are the symptoms of COVID-19 ?\", context=context))\n",
    "print(pipe(question=\"When do the symptoms begin?\", context=context))"
   ],
   "metadata": {
    "colab": {
     "base_uri": "https://localhost:8080/"
    },
    "id": "A7htoI8G7xqG",
    "outputId": "eb69bddb-050f-409d-9d48-b6fb42116004",
    "pycharm": {
     "name": "#%%\n"
    }
   },
   "execution_count": 3,
   "outputs": [
    {
     "name": "stdout",
     "output_type": "stream",
     "text": [
      "{'score': 0.9045335650444031, 'start': 54, 'end': 128, 'answer': 'fever, cough, fatigue, breathing difficulties, and loss of smell and taste'}\n",
      "{'score': 0.4432043135166168, 'start': 150, 'end': 170, 'answer': 'one to fourteen days'}\n"
     ]
    }
   ]
  }
 ]
}