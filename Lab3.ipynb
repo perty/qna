{
 "nbformat": 4,
 "nbformat_minor": 0,
 "metadata": {
  "colab": {
   "provenance": [],
   "collapsed_sections": []
  },
  "kernelspec": {
   "name": "python3",
   "display_name": "Python 3"
  },
  "language_info": {
   "name": "python"
  }
 },
 "cells": [
  {
   "cell_type": "code",
   "execution_count": null,
   "metadata": {
    "id": "S94IjQAhiK7L",
    "pycharm": {
     "name": "#%%\n"
    }
   },
   "outputs": [],
   "source": [
    "!pip install pyTelegramBotAPI"
   ]
  },
  {
   "cell_type": "markdown",
   "source": [
    "Access Telegram (via web or app), start a conversation with the user BotFather (a bot that creates new bots), create a new bot, and copy its token.\n",
    "\n",
    "Install the pyTelegramBotAPI library.\n",
    "\n",
    "Import the library.\n",
    "\n",
    "Set the chatbot token.\n",
    "\n",
    "Create a function that receives a message and gives a hi response.\n",
    "\n",
    "Execute the chatbot.\n",
    "\n",
    "Access your Telegram, start chatting with your bot (to find it, the ID may be useful), and write any message and receive a hi from your chatbot."
   ],
   "metadata": {
    "id": "hbedHG7gipdi",
    "pycharm": {
     "name": "#%% md\n"
    }
   }
  },
  {
   "cell_type": "code",
   "source": [
    "import telebot\n",
    "\n",
    "token = \"TOKEN\"\n",
    "bot = telebot.TeleBot(token, parse_mode=None) # You can set parse_mode by default. HTML or MARKDOWN\n",
    "\n",
    "@bot.message_handler(commands=['start', 'help'])\n",
    "def send_welcome(message):\n",
    "\tbot.reply_to(message, \"Howdy, how are you doing?\")\n",
    " \n",
    "@bot.message_handler(func=lambda m: True)\n",
    "def echo_all(message):\n",
    "\tbot.reply_to(message, message.text)\n",
    " \n",
    "bot.infinity_polling() "
   ],
   "metadata": {
    "colab": {
     "base_uri": "https://localhost:8080/"
    },
    "id": "3wziARseiqAK",
    "outputId": "1ec27bdc-a1c3-47cd-aec2-950d66216915",
    "pycharm": {
     "name": "#%%\n"
    }
   },
   "execution_count": 5,
   "outputs": [
    {
     "output_type": "stream",
     "name": "stderr",
     "text": [
      "2022-11-11 12:04:05,808 (__init__.py:970 MainThread) ERROR - TeleBot: \"Infinity polling: polling exited\"\n",
      "ERROR:TeleBot:Infinity polling: polling exited\n",
      "2022-11-11 12:04:05,812 (__init__.py:972 MainThread) ERROR - TeleBot: \"Break infinity polling\"\n",
      "ERROR:TeleBot:Break infinity polling\n"
     ]
    }
   ]
  }
 ]
}